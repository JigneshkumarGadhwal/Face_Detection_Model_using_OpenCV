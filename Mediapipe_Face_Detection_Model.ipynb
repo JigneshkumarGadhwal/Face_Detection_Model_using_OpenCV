{
 "cells": [
  {
   "cell_type": "code",
   "execution_count": 3,
   "id": "73f74d36-5d0d-4d2a-af5d-889584a931b8",
   "metadata": {},
   "outputs": [],
   "source": [
    "import cv2"
   ]
  },
  {
   "cell_type": "code",
   "execution_count": 1,
   "id": "f30e5241-ddb7-492b-bd68-bcbecbfab51a",
   "metadata": {},
   "outputs": [],
   "source": [
    "import cv2\n",
    "\n",
    "cap = cv2.VideoCapture(0)\n",
    "\n",
    "face_cascade = cv2.CascadeClassifier(r\"C:\\Users\\JERRY\\Jupyter_Python_2K24_25\\MediaPipe\\Face_Detection_Model\\haarcascade_frontalface_default.xml\")\n",
    "\n",
    "# Checking if the cascade file has been loaded successfully or not.\n",
    "if face_cascade.empty():\n",
    "    print(\"Error: Unable to load the Haar-Cascade file.\")\n",
    "    exit()\n",
    "\n",
    "cv2.namedWindow(\"Camera\",cv2.WINDOW_NORMAL)\n",
    "cv2.resizeWindow(\"Camera\",1000,600)\n",
    "\n",
    "while True:\n",
    "    \n",
    "    ret,frame = cap.read()\n",
    "    \n",
    "    if not ret:\n",
    "        print(\"Failed to capture the frame!\")\n",
    "        break\n",
    "    \n",
    "    gray = cv2.cvtColor(frame,cv2.COLOR_BGR2GRAY)\n",
    "    \n",
    "    detected_face = face_cascade.detectMultiScale(gray,scaleFactor=1.1,minNeighbors=5, minSize=(30,30))\n",
    "    \n",
    "    if len(detected_face) > 0:\n",
    "        cv2.putText(frame,\"Face Detected!\",(50,50),cv2.FONT_HERSHEY_SIMPLEX,1,(0,255,0),2)\n",
    "    else:\n",
    "        cv2.putText(frame,\"No Face Detected!\",(50,50),cv2.FONT_HERSHEY_SIMPLEX,1,(0,0,255),2)\n",
    "\n",
    "    \n",
    "    for (x,y,w,h) in detected_face:\n",
    "        cv2.rectangle(frame,(x,y),(x+w,y+h),(0,255,0),2)\n",
    "        \n",
    "    cv2.imshow(\"Frame\",frame)\n",
    "    \n",
    "    if cv2.waitKey(1) & 0xFF == (27):\n",
    "        break\n",
    "\n",
    "cap.release()\n",
    "cv2.destroyAllWindows()\n"
   ]
  },
  {
   "cell_type": "code",
   "execution_count": null,
   "id": "b8594633-9b82-4bc7-affc-36b67fa931e7",
   "metadata": {},
   "outputs": [],
   "source": []
  }
 ],
 "metadata": {
  "kernelspec": {
   "display_name": "Python 3 (ipykernel)",
   "language": "python",
   "name": "python3"
  },
  "language_info": {
   "codemirror_mode": {
    "name": "ipython",
    "version": 3
   },
   "file_extension": ".py",
   "mimetype": "text/x-python",
   "name": "python",
   "nbconvert_exporter": "python",
   "pygments_lexer": "ipython3",
   "version": "3.12.7"
  }
 },
 "nbformat": 4,
 "nbformat_minor": 5
}
